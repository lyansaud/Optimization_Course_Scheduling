{
 "cells": [
  {
   "cell_type": "markdown",
   "metadata": {},
   "source": [
    "### GradientAscent Solutions \n",
    "\n",
    "### Course Scheduling at the Marshall School of Business"
   ]
  },
  {
   "cell_type": "markdown",
   "metadata": {},
   "source": [
    "The proposed MIP optimization routine seeks to aid Shannon and Hal in Phase-1 for allotting departments to classroom-sessions. The optimization maximizes cumulative department preference while minimizing inter-department cumulative preference score disparity.\n",
    "\n",
    "The required resource (classroom-timeslots) for each department is organized into groups on the basis of section-size (Small, Medium or Large), and the number of credits (1.5 or 3). The required number of timeslots for each department against each such group is set as a hard constraint.\n",
    "\n",
    "Preferences: Historical data is given precedence, i.e. if a Department has been offered the same Classroom-Day-Timeslot over a period of time it is assumed that such an assignment is favorable to the department.\n",
    "\n",
    "#### Definitions:\n",
    "\n",
    "$$\\begin{aligned}\n",
    "x_{ijk} = \\text{Binary Decision Variable; Allot Dept 'i' to Classroom-Timeslot 'k' on Day-Index 'j'} \\\\\n",
    "p_{ijk} = \\text{Preference Data; Dept 'i' for Classroom-Timeslot 'k' on Day-Index 'j'} \\\\\n",
    "U_{DP} = \\text{Maximum: Weighted Cumulative Department Preference} \\\\ \n",
    "L_{DP} = \\text{Minimum: Weighted Cumulative Department Preference}\\\\\n",
    "q_{i} = \\text{Total required timeslots over all classrooms and 1.5 / 3 credit sections} \\\\\n",
    "q_{Sj_{1.5}} = \\text{Number of timeslots required by Department 'i' for \"Small\" sections worth 1.5 credits} \\\\\n",
    "q_{Sj_{3.0}} = \\text{Number of timeslots required by Department 'i' for \"Small\" sections worth 3.0 credits} \\\\\n",
    "q_{Mj_{1.5}} = \\text{Number of timeslots required by Department 'i' for \"Medium\" sections worth 1.5 credits} \\\\\n",
    "q_{Mj_{3.0}} = \\text{Number of timeslots required by Department 'i' for \"Medium\" sections worth 3.0 credits} \\\\\n",
    "q_{Lj_{1.5}} = \\text{Number of timeslots required by Department 'i' for \"Large\" sections worth 1.5 credits} \\\\\n",
    "q_{Lj_{3.0}} = \\text{Number of timeslots required by Department 'i' for \"Large\" sections worth 3.0 credits} \\\\\n",
    "\\lambda = \\text{Tuning Parameter for Model}\n",
    "\\end{aligned}$$"
   ]
  },
  {
   "cell_type": "markdown",
   "metadata": {},
   "source": [
    "### LP Formulation\n",
    "\n",
    "$$\\begin{aligned}\n",
    "\\textbf{maximize: } && \\displaystyle \\sum_{i \\in I}\\sum_{j \\in J}\\sum_{k \\in K} x_{ijk}p_{ijk} - \\lambda(U_{DP} - L_{DP}) \\\\\n",
    "\\text{where} && U_{DP} \\ge \\displaystyle \\frac{(\\sum_{j \\in J}\\sum_{k \\in K} x_{ijk}p_{ijk})}{q_{i}}\\\\\n",
    "&& L_{DP} \\le \\displaystyle \\frac{(\\sum_{j \\in J}\\sum_{k \\in K} x_{ijk}p_{ijk})}{q_{i}} \\\\\n",
    "\\textbf{subject to: } \\\\\n",
    "\\text{Binary DV} && x_{ijk} \\in \\{0, 1\\} \\\\\n",
    "\\text{One Dept maps to One Classroom-Timeslot} && \\sum_{i \\in I} x_{ijk} \\le 1 \\ \\forall \\  j \\in J, \\ k \\in K \\\\\n",
    "\\text{Small Section, 1.5 Credit Timeslots} && \\sum_{k \\in S}\\sum_{j \\in J_{1.5}} x_{ijk} \\ge q_{Sj_{1.5}i} \\ \\forall \\ i \\in I \\\\\n",
    "\\text{Small Section, 3.0 Credit Timeslots} && \\sum_{k \\in S}\\sum_{j \\in J_{3.0}} x_{ijk} \\ge q_{Sj_{3.0}i} \\ \\forall \\ i \\in I \\\\\n",
    "\\text{Medium Section, 1.5 Credit Timeslots} && \\sum_{k \\in M}\\sum_{j \\in J_{1.5}} x_{ijk} \\ge q_{Mj_{1.5}i} \\ \\forall \\ i \\in I \\\\\n",
    "\\text{Medium Section, 3.0 Credit Timeslots} && \\sum_{k \\in M}\\sum_{j \\in J_{3.0}} x_{ijk} \\ge q_{Mj_{3.0}i} \\ \\forall \\ i \\in I \\\\\n",
    "\\text{Large Section, 1.5 Credit Timeslots} && \\sum_{k \\in L}\\sum_{j \\in J_{1.5}} x_{ijk} \\ge q_{Lj_{1.5}i} \\ \\forall \\ i \\in I \\\\\n",
    "\\text{Large Section, 3.0 Credit Timeslots} && \\sum_{k \\in L}\\sum_{j \\in J_{3.0}} x_{ijk} \\ge q_{Lj_{3.0}i} \\ \\forall \\ i \\in I \\\\\n",
    "\\text{Pref > Allotment} && \\ p_{ijk} \\ge x_{ijk} \\ \\forall i \\in I, \\ j \\in J, \\ k \\in K \\\\\n",
    "\\text{IntraDept: Conflicting 1.5 and 3-Credit Courses} && x_{iMk} + x_{iMWk} \\le 1 \\ \\forall i \\in I, \\ k \\in K \\\\\n",
    "&& x_{iWk} + x_{iMWk} \\le 1 \\ \\forall i \\in I, \\ k \\in K \\\\\n",
    "&& x_{iTk} + x_{iTHk} \\le 1 \\ \\forall i \\in I, \\ k \\in K \\\\\n",
    "&& x_{iHk} + x_{iTHk} \\le 1 \\ \\forall i \\in I, \\ k \\in K \\\\\n",
    "\\text{InterDept: Conflicting 1.5 and 3-Credit Courses} && x_{i^*Mk} + x_{iMWk} \\le 1 \\ \\forall i \\in I, \\ i^* \\in I - \\{i\\}, \\ k \\in K \\\\\n",
    "&& x_{i^*Wk} + x_{iMWk} \\le 1 \\ \\forall i \\in I, \\ i^* \\in I - \\{i\\}, \\ k \\in K \\\\\n",
    "&& x_{i^*Tk} + x_{iTHk} \\le 1 \\ \\forall i \\in I, \\ i^* \\in I - \\{i\\}, \\ k \\in K \\\\\n",
    "&& x_{i^*Hk} + x_{iTHk} \\le 1 \\ \\forall i \\in I, \\ i^* \\in I - \\{i\\}, \\ k \\in K \\\\\n",
    "\\end{aligned}$$"
   ]
  },
  {
   "cell_type": "code",
   "execution_count": 2,
   "metadata": {},
   "outputs": [
    {
     "data": {
      "text/html": [
       "<div>\n",
       "<style scoped>\n",
       "    .dataframe tbody tr th:only-of-type {\n",
       "        vertical-align: middle;\n",
       "    }\n",
       "\n",
       "    .dataframe tbody tr th {\n",
       "        vertical-align: top;\n",
       "    }\n",
       "\n",
       "    .dataframe thead th {\n",
       "        text-align: right;\n",
       "    }\n",
       "</style>\n",
       "<table border=\"1\" class=\"dataframe\">\n",
       "  <thead>\n",
       "    <tr style=\"text-align: right;\">\n",
       "      <th></th>\n",
       "      <th>D1</th>\n",
       "      <th>D2</th>\n",
       "      <th>D3</th>\n",
       "    </tr>\n",
       "  </thead>\n",
       "  <tbody>\n",
       "    <tr>\n",
       "      <th>Total_Courses</th>\n",
       "      <td>10</td>\n",
       "      <td>7</td>\n",
       "      <td>9</td>\n",
       "    </tr>\n",
       "    <tr>\n",
       "      <th>Small_Cred1.5</th>\n",
       "      <td>4</td>\n",
       "      <td>2</td>\n",
       "      <td>0</td>\n",
       "    </tr>\n",
       "    <tr>\n",
       "      <th>Small_Cred3</th>\n",
       "      <td>1</td>\n",
       "      <td>3</td>\n",
       "      <td>3</td>\n",
       "    </tr>\n",
       "    <tr>\n",
       "      <th>Med_Cred1.5</th>\n",
       "      <td>0</td>\n",
       "      <td>0</td>\n",
       "      <td>3</td>\n",
       "    </tr>\n",
       "    <tr>\n",
       "      <th>Med_Cred3</th>\n",
       "      <td>1</td>\n",
       "      <td>0</td>\n",
       "      <td>1</td>\n",
       "    </tr>\n",
       "    <tr>\n",
       "      <th>Large_Cred1.5</th>\n",
       "      <td>1</td>\n",
       "      <td>1</td>\n",
       "      <td>1</td>\n",
       "    </tr>\n",
       "    <tr>\n",
       "      <th>Large_Cred3</th>\n",
       "      <td>3</td>\n",
       "      <td>1</td>\n",
       "      <td>1</td>\n",
       "    </tr>\n",
       "  </tbody>\n",
       "</table>\n",
       "</div>"
      ],
      "text/plain": [
       "               D1  D2  D3\n",
       "Total_Courses  10   7   9\n",
       "Small_Cred1.5   4   2   0\n",
       "Small_Cred3     1   3   3\n",
       "Med_Cred1.5     0   0   3\n",
       "Med_Cred3       1   0   1\n",
       "Large_Cred1.5   1   1   1\n",
       "Large_Cred3     3   1   1"
      ]
     },
     "execution_count": 2,
     "metadata": {},
     "output_type": "execute_result"
    }
   ],
   "source": [
    "import numpy as np\n",
    "import pandas as pd\n",
    "import gurobipy as grb\n",
    "\n",
    "course_sizes = pd.read_excel('Final_TOYDATA.xlsx', 'Course_SizeCredit_Breakdown')\n",
    "classroom_sizes = pd.read_excel('Final_TOYDATA.xlsx', 'Classrooms')\n",
    "prefs_D1  = pd.read_excel('Final_TOYDATA.xlsx', 'HistoricalPref_D1')\n",
    "prefs_D2  = pd.read_excel('Final_TOYDATA.xlsx', 'HistoricalPref_D2')\n",
    "prefs_D3  = pd.read_excel('Final_TOYDATA.xlsx', 'HistoricalPref_D3')\n",
    "\n",
    "K = list(prefs_D1.index)\n",
    "\n",
    "course_sizes"
   ]
  },
  {
   "cell_type": "code",
   "execution_count": 3,
   "metadata": {},
   "outputs": [
    {
     "data": {
      "text/html": [
       "<div>\n",
       "<style scoped>\n",
       "    .dataframe tbody tr th:only-of-type {\n",
       "        vertical-align: middle;\n",
       "    }\n",
       "\n",
       "    .dataframe tbody tr th {\n",
       "        vertical-align: top;\n",
       "    }\n",
       "\n",
       "    .dataframe thead th {\n",
       "        text-align: right;\n",
       "    }\n",
       "</style>\n",
       "<table border=\"1\" class=\"dataframe\">\n",
       "  <thead>\n",
       "    <tr style=\"text-align: right;\">\n",
       "      <th></th>\n",
       "      <th>M</th>\n",
       "      <th>T</th>\n",
       "      <th>W</th>\n",
       "      <th>H</th>\n",
       "      <th>MW</th>\n",
       "      <th>TH</th>\n",
       "    </tr>\n",
       "  </thead>\n",
       "  <tbody>\n",
       "    <tr>\n",
       "      <th>C1-TS1</th>\n",
       "      <td>2</td>\n",
       "      <td>2</td>\n",
       "      <td>1</td>\n",
       "      <td>1</td>\n",
       "      <td>2</td>\n",
       "      <td>2</td>\n",
       "    </tr>\n",
       "    <tr>\n",
       "      <th>C1-TS2</th>\n",
       "      <td>2</td>\n",
       "      <td>1</td>\n",
       "      <td>2</td>\n",
       "      <td>0</td>\n",
       "      <td>2</td>\n",
       "      <td>2</td>\n",
       "    </tr>\n",
       "    <tr>\n",
       "      <th>C1-TS3</th>\n",
       "      <td>0</td>\n",
       "      <td>1</td>\n",
       "      <td>2</td>\n",
       "      <td>2</td>\n",
       "      <td>1</td>\n",
       "      <td>1</td>\n",
       "    </tr>\n",
       "    <tr>\n",
       "      <th>C2-TS1</th>\n",
       "      <td>0</td>\n",
       "      <td>1</td>\n",
       "      <td>0</td>\n",
       "      <td>0</td>\n",
       "      <td>2</td>\n",
       "      <td>1</td>\n",
       "    </tr>\n",
       "    <tr>\n",
       "      <th>C2-TS2</th>\n",
       "      <td>1</td>\n",
       "      <td>0</td>\n",
       "      <td>2</td>\n",
       "      <td>0</td>\n",
       "      <td>2</td>\n",
       "      <td>1</td>\n",
       "    </tr>\n",
       "    <tr>\n",
       "      <th>C2-TS3</th>\n",
       "      <td>1</td>\n",
       "      <td>1</td>\n",
       "      <td>0</td>\n",
       "      <td>0</td>\n",
       "      <td>0</td>\n",
       "      <td>1</td>\n",
       "    </tr>\n",
       "    <tr>\n",
       "      <th>C3-TS1</th>\n",
       "      <td>1</td>\n",
       "      <td>2</td>\n",
       "      <td>1</td>\n",
       "      <td>1</td>\n",
       "      <td>2</td>\n",
       "      <td>1</td>\n",
       "    </tr>\n",
       "    <tr>\n",
       "      <th>C3-TS2</th>\n",
       "      <td>2</td>\n",
       "      <td>0</td>\n",
       "      <td>2</td>\n",
       "      <td>0</td>\n",
       "      <td>1</td>\n",
       "      <td>0</td>\n",
       "    </tr>\n",
       "    <tr>\n",
       "      <th>C3-TS3</th>\n",
       "      <td>2</td>\n",
       "      <td>2</td>\n",
       "      <td>1</td>\n",
       "      <td>0</td>\n",
       "      <td>2</td>\n",
       "      <td>2</td>\n",
       "    </tr>\n",
       "    <tr>\n",
       "      <th>C4-TS1</th>\n",
       "      <td>2</td>\n",
       "      <td>2</td>\n",
       "      <td>1</td>\n",
       "      <td>1</td>\n",
       "      <td>1</td>\n",
       "      <td>0</td>\n",
       "    </tr>\n",
       "    <tr>\n",
       "      <th>C4-TS2</th>\n",
       "      <td>2</td>\n",
       "      <td>1</td>\n",
       "      <td>0</td>\n",
       "      <td>0</td>\n",
       "      <td>2</td>\n",
       "      <td>1</td>\n",
       "    </tr>\n",
       "    <tr>\n",
       "      <th>C4-TS3</th>\n",
       "      <td>2</td>\n",
       "      <td>1</td>\n",
       "      <td>2</td>\n",
       "      <td>2</td>\n",
       "      <td>0</td>\n",
       "      <td>2</td>\n",
       "    </tr>\n",
       "    <tr>\n",
       "      <th>C5-TS1</th>\n",
       "      <td>0</td>\n",
       "      <td>1</td>\n",
       "      <td>2</td>\n",
       "      <td>1</td>\n",
       "      <td>2</td>\n",
       "      <td>2</td>\n",
       "    </tr>\n",
       "    <tr>\n",
       "      <th>C5-TS2</th>\n",
       "      <td>2</td>\n",
       "      <td>0</td>\n",
       "      <td>1</td>\n",
       "      <td>0</td>\n",
       "      <td>1</td>\n",
       "      <td>1</td>\n",
       "    </tr>\n",
       "    <tr>\n",
       "      <th>C5-TS3</th>\n",
       "      <td>1</td>\n",
       "      <td>2</td>\n",
       "      <td>0</td>\n",
       "      <td>2</td>\n",
       "      <td>0</td>\n",
       "      <td>0</td>\n",
       "    </tr>\n",
       "  </tbody>\n",
       "</table>\n",
       "</div>"
      ],
      "text/plain": [
       "        M  T  W  H  MW  TH\n",
       "C1-TS1  2  2  1  1   2   2\n",
       "C1-TS2  2  1  2  0   2   2\n",
       "C1-TS3  0  1  2  2   1   1\n",
       "C2-TS1  0  1  0  0   2   1\n",
       "C2-TS2  1  0  2  0   2   1\n",
       "C2-TS3  1  1  0  0   0   1\n",
       "C3-TS1  1  2  1  1   2   1\n",
       "C3-TS2  2  0  2  0   1   0\n",
       "C3-TS3  2  2  1  0   2   2\n",
       "C4-TS1  2  2  1  1   1   0\n",
       "C4-TS2  2  1  0  0   2   1\n",
       "C4-TS3  2  1  2  2   0   2\n",
       "C5-TS1  0  1  2  1   2   2\n",
       "C5-TS2  2  0  1  0   1   1\n",
       "C5-TS3  1  2  0  2   0   0"
      ]
     },
     "execution_count": 3,
     "metadata": {},
     "output_type": "execute_result"
    }
   ],
   "source": [
    "prefs = {}\n",
    "prefs['D1'] = prefs_D1\n",
    "prefs['D2'] = prefs_D2\n",
    "prefs['D3'] = prefs_D3\n",
    "\n",
    "prefs['D1']"
   ]
  },
  {
   "cell_type": "code",
   "execution_count": 4,
   "metadata": {},
   "outputs": [
    {
     "data": {
      "text/html": [
       "<div>\n",
       "<style scoped>\n",
       "    .dataframe tbody tr th:only-of-type {\n",
       "        vertical-align: middle;\n",
       "    }\n",
       "\n",
       "    .dataframe tbody tr th {\n",
       "        vertical-align: top;\n",
       "    }\n",
       "\n",
       "    .dataframe thead th {\n",
       "        text-align: right;\n",
       "    }\n",
       "</style>\n",
       "<table border=\"1\" class=\"dataframe\">\n",
       "  <thead>\n",
       "    <tr style=\"text-align: right;\">\n",
       "      <th></th>\n",
       "      <th>Type</th>\n",
       "    </tr>\n",
       "  </thead>\n",
       "  <tbody>\n",
       "    <tr>\n",
       "      <th>C1</th>\n",
       "      <td>S</td>\n",
       "    </tr>\n",
       "    <tr>\n",
       "      <th>C2</th>\n",
       "      <td>M</td>\n",
       "    </tr>\n",
       "    <tr>\n",
       "      <th>C3</th>\n",
       "      <td>L</td>\n",
       "    </tr>\n",
       "    <tr>\n",
       "      <th>C4</th>\n",
       "      <td>S</td>\n",
       "    </tr>\n",
       "    <tr>\n",
       "      <th>C5</th>\n",
       "      <td>L</td>\n",
       "    </tr>\n",
       "  </tbody>\n",
       "</table>\n",
       "</div>"
      ],
      "text/plain": [
       "   Type\n",
       "C1    S\n",
       "C2    M\n",
       "C3    L\n",
       "C4    S\n",
       "C5    L"
      ]
     },
     "execution_count": 4,
     "metadata": {},
     "output_type": "execute_result"
    }
   ],
   "source": [
    "session_groups = list(course_sizes.index)\n",
    "I = list(course_sizes.columns) ##All Departments\n",
    "J = ['M', 'T', 'W', 'H', 'MW', 'TH'] ##All Day Indices \n",
    "J1p5 = J[0:4] ## Day Indices for 1.5 credit courses\n",
    "J3p0 = J[4:] ## Day Indices for 3.0 credit courses\n",
    "\n",
    "# All Small, Medium and Large Classroom Sessions\n",
    "\n",
    "S = []\n",
    "M = []\n",
    "L = []\n",
    "\n",
    "classroom_sizes"
   ]
  },
  {
   "cell_type": "code",
   "execution_count": 5,
   "metadata": {
    "collapsed": true
   },
   "outputs": [],
   "source": [
    "for k in K:\n",
    "    if 'C1' in k or 'C4' in k:\n",
    "        S.append(k)\n",
    "    elif 'C2' in k:\n",
    "        M.append(k)\n",
    "    elif 'C3' in k or 'C5' in k:\n",
    "        L.append(k)\n"
   ]
  },
  {
   "cell_type": "code",
   "execution_count": 6,
   "metadata": {},
   "outputs": [
    {
     "name": "stdout",
     "output_type": "stream",
     "text": [
      "Changed value of parameter TimeLimit to 60.0\n",
      "   Prev: 1e+100  Min: 0.0  Max: 1e+100  Default: 1e+100\n"
     ]
    }
   ],
   "source": [
    "mod = grb.Model()\n",
    "mod.setParam('TimeLimit', 1*60)\n",
    "## Decision Variables\n",
    "x = {}\n",
    "for i in I:\n",
    "    for j in J:\n",
    "        for k in K:\n",
    "            x[i,j,k] = mod.addVar(vtype = grb.GRB.BINARY, name = 'X{0}{1}{2}'.format(i,j,k))"
   ]
  },
  {
   "cell_type": "code",
   "execution_count": 7,
   "metadata": {
    "collapsed": true
   },
   "outputs": [],
   "source": [
    "## Auxiliary Decision Variables:\n",
    "\n",
    "U_dpmax = mod.addVar(lb = 0, name = 'DeptPrefs_UpperBound')\n",
    "L_dpmin = mod.addVar(lb = 0, name = 'DeptPrefs_LowerBound')\n",
    "\n",
    "for i in I:\n",
    "    mod.addConstr(U_dpmax * course_sizes.loc['Total_Courses', i] >= sum(x[i,j,k]*prefs[i].loc[k, j] for j in J for k in K))\n",
    "\n",
    "for i in I:\n",
    "    mod.addConstr(L_dpmin * course_sizes.loc['Total_Courses', i] <= sum(x[i,j,k]*prefs[i].loc[k, j] for j in J for k in K))\n",
    "    \n",
    "\n",
    "## Preference Constraints:\n",
    "for i in I:\n",
    "    for j in J:\n",
    "        for k in K:\n",
    "            mod.addConstr(x[i,j,k] <= prefs[i].loc[k,j])\n"
   ]
  },
  {
   "cell_type": "code",
   "execution_count": 8,
   "metadata": {
    "collapsed": true
   },
   "outputs": [],
   "source": [
    "## Constraints:\n",
    "\n",
    "#Every day - classroom session combination must be given only to ONE department\n",
    "for j in J:\n",
    "    for k in K:\n",
    "        mod.addConstr(sum(x[i,j,k] for i in I) <= 1)\n",
    "        \n",
    "#Every department must be given required number of timeslots for Small sections of 1.5 credits\n",
    "\n",
    "for i in I:\n",
    "    mod.addConstr(sum(x[i,j,k] for j in J1p5 for k in S) >= course_sizes.loc['Small_Cred1.5', i], \n",
    "                 name = 'Small Section 1.5 Credit Sufficiency for {0}'.format(i))\n",
    "\n",
    "#Every department must be given required number of timeslots for Small sections of 3.0 credits\n",
    "\n",
    "for i in I:\n",
    "    mod.addConstr(sum(x[i,j,k] for j in J3p0 for k in S) >= course_sizes.loc['Small_Cred3', i], \n",
    "                 name = 'Small Section 3.0 Credit Sufficiency for {0}'.format(i))\n",
    "\n",
    "#Every department must be given required number of timeslots for Medium sections of 1.5 credits\n",
    "\n",
    "for i in I:\n",
    "    mod.addConstr(sum(x[i,j,k] for j in J1p5 for k in M) >= course_sizes.loc['Med_Cred1.5', i], \n",
    "                 name = 'Med Section 1.5 Credit Sufficiency for {0}'.format(i))\n",
    "    \n",
    "#Every department must be given required number of timeslots for Medium sections of 3.0 credits\n",
    "\n",
    "for i in I:\n",
    "    mod.addConstr(sum(x[i,j,k] for j in J3p0 for k in M) >= course_sizes.loc['Med_Cred3', i], \n",
    "                 name = 'Med Section 3.0 Credit Sufficiency for {0}'.format(i))\n",
    "\n",
    "#Every department must be given required number of timeslots for Large sections of 1.5 credits\n",
    "\n",
    "for i in I:\n",
    "    mod.addConstr(sum(x[i,j,k] for j in J1p5 for k in L) >= course_sizes.loc['Large_Cred1.5', i], \n",
    "                 name = 'Large Section 1.5 Credit Sufficiency for {0}'.format(i))\n",
    "    \n",
    "#Every department must be given required number of timeslots for Large sections of 3.0 credits\n",
    "\n",
    "for i in I:\n",
    "    mod.addConstr(sum(x[i,j,k] for j in J3p0 for k in L) >= course_sizes.loc['Large_Cred3', i], \n",
    "                 name = 'Large Section 3.0 Credit Sufficiency for {0}'.format(i))"
   ]
  },
  {
   "cell_type": "code",
   "execution_count": 10,
   "metadata": {
    "collapsed": true
   },
   "outputs": [],
   "source": [
    "## 1.5 Credit and 3-Credit Conflict Resolution Constraints:\n",
    "\n",
    "#IntraDept\n",
    "for i in I:\n",
    "    for k in K:\n",
    "        mod.addConstr(x[i, 'M', k] + x[i, 'MW', k] <= 1)\n",
    "        mod.addConstr(x[i, 'W', k] + x[i, 'MW', k] <= 1)\n",
    "\n",
    "for i in I:\n",
    "    for k in K:\n",
    "        mod.addConstr(x[i, 'T', k] + x[i, 'TH', k] <= 1)\n",
    "        mod.addConstr(x[i, 'H', k] + x[i, 'TH', k] <= 1)\n",
    "\n",
    "#InterDept\n",
    "for i in I:\n",
    "    I_copy = I[:]\n",
    "    I_star = I_copy\n",
    "    I_star.remove(i)\n",
    "    for i_ in I_star:\n",
    "        for k in K:\n",
    "            mod.addConstr(x[i_,'M',k] + x[i, 'MW', k] <= 1)\n",
    "            mod.addConstr(x[i_,'W',k] + x[i, 'MW', k] <= 1)\n",
    "            mod.addConstr(x[i_,'T',k] + x[i, 'TH', k] <= 1)\n",
    "            mod.addConstr(x[i_,'H',k] + x[i, 'TH', k] <= 1)\n",
    "            "
   ]
  },
  {
   "cell_type": "code",
   "execution_count": 11,
   "metadata": {
    "collapsed": true
   },
   "outputs": [],
   "source": [
    "## Setting Objective\n",
    "\n",
    "alpha = 100 ##Scaling Parameter\n",
    "\n",
    "mod.setObjective(sum(x[i,j,k]*prefs[i].loc[k,j] for i in I for j in J for k in K) - alpha*(U_dpmax - L_dpmin), \n",
    "                 sense = grb.GRB.MAXIMIZE)"
   ]
  },
  {
   "cell_type": "code",
   "execution_count": 12,
   "metadata": {},
   "outputs": [
    {
     "name": "stdout",
     "output_type": "stream",
     "text": [
      "Optimize a model with 1104 rows, 272 columns and 2656 nonzeros\n",
      "Variable types: 2 continuous, 270 integer (270 binary)\n",
      "Coefficient statistics:\n",
      "  Matrix range     [1e+00, 1e+01]\n",
      "  Objective range  [1e+00, 1e+02]\n",
      "  Bounds range     [1e+00, 1e+00]\n",
      "  RHS range        [1e+00, 4e+00]\n",
      "Found heuristic solution: objective -101.0000048\n",
      "Presolve removed 1025 rows and 73 columns\n",
      "Presolve time: 0.02s\n",
      "Presolved: 79 rows, 199 columns, 832 nonzeros\n",
      "Variable types: 2 continuous, 197 integer (197 binary)\n",
      "\n",
      "Root relaxation: objective 8.700000e+01, 154 iterations, 0.01 seconds\n",
      "\n",
      "    Nodes    |    Current Node    |     Objective Bounds      |     Work\n",
      " Expl Unexpl |  Obj  Depth IntInf | Incumbent    BestBd   Gap | It/Node Time\n",
      "\n",
      "     0     0   87.00000    0    4 -101.00000   87.00000   186%     -    0s\n",
      "H    0     0                      66.3650794   87.00000  31.1%     -    0s\n",
      "H    0     0                      75.0634921   87.00000  15.9%     -    0s\n",
      "     0     0   87.00000    0   16   75.06349   87.00000  15.9%     -    0s\n",
      "H    0     0                      81.2380952   87.00000  7.09%     -    0s\n",
      "     0     0   87.00000    0    5   81.23810   87.00000  7.09%     -    0s\n",
      "     0     0   87.00000    0    3   81.23810   87.00000  7.09%     -    0s\n",
      "     0     2   87.00000    0    3   81.23810   87.00000  7.09%     -    0s\n",
      "H  776   605                      81.2380952   84.77823  4.36%   4.2    0s\n",
      "H 1078   744                      81.2380953   84.12155  3.55%   7.5    1s\n",
      "H 7706  4454                      81.2380953   84.12155  3.55%   5.2    2s\n",
      " 21696 12528   84.11687   46    4   81.23810   84.12155  3.55%   5.0    5s\n",
      "H28403 16408                      81.2380953   84.12155  3.55%   5.0    5s\n",
      "H32046 18572                      81.2380953   84.12155  3.55%   5.0    6s\n",
      " 58377 33333   82.31282   61    4   81.23810   84.12155  3.55%   4.9   10s\n",
      " 86614 48938   82.74978   67    7   81.23810   84.12155  3.55%   4.9   15s\n",
      " 117731 66544   82.79722   71    5   81.23810   84.12155  3.55%   4.9   20s\n",
      " 143897 81057   82.51229   62    5   81.23810   84.12155  3.55%   4.8   25s\n",
      " 176643 99972     cutoff   76        81.23810   84.12155  3.55%   4.8   30s\n",
      " 212128 121176   83.93722   54    4   81.23810   84.12155  3.55%   4.8   35s\n",
      " 243587 138488   81.33008   66    7   81.23810   84.12155  3.55%   4.8   40s\n",
      " 274969 155537   84.10277   64    5   81.23810   84.12155  3.55%   4.8   45s\n",
      " 303987 171751   83.25193   57    6   81.23810   84.12155  3.55%   4.8   50s\n",
      " 333371 188039   83.92118   58    8   81.23810   84.12155  3.55%   4.8   55s\n",
      " 365055 205105   84.01130   63    4   81.23810   84.12155  3.55%   4.8   60s\n",
      "\n",
      "Cutting planes:\n",
      "  Gomory: 7\n",
      "  MIR: 5\n",
      "  Flow cover: 1\n",
      "\n",
      "Explored 365363 nodes (1772136 simplex iterations) in 60.03 seconds\n",
      "Thread count was 4 (of 4 available processors)\n",
      "\n",
      "Solution count 9: 81.2381 81.2381 81.2381 ... -101\n",
      "\n",
      "Time limit reached\n",
      "Best objective 8.123809530586e+01, best bound 8.412155425620e+01, gap 3.5494%\n"
     ]
    }
   ],
   "source": [
    "mod.optimize()"
   ]
  },
  {
   "cell_type": "code",
   "execution_count": 199,
   "metadata": {},
   "outputs": [
    {
     "data": {
      "text/plain": [
       "{'DeptPrefs_LowerBound': 3.2857142857142874,\n",
       " 'DeptPrefs_UpperBound': 3.3333333306032764}"
      ]
     },
     "execution_count": 199,
     "metadata": {},
     "output_type": "execute_result"
    }
   ],
   "source": [
    "var_vals = {}\n",
    "for var in mod.getVars():\n",
    "    var_vals[var.VarName] = var.x \n",
    "\n",
    "aux_vars = list(var_vals.keys())[270:]\n",
    "\n",
    "aux_var_vals = {}\n",
    "\n",
    "for a in aux_vars:\n",
    "    aux_var_vals[a] = var_vals[a]\n",
    "    var_vals.pop(a)\n",
    "    \n",
    "aux_var_vals"
   ]
  },
  {
   "cell_type": "code",
   "execution_count": 200,
   "metadata": {},
   "outputs": [
    {
     "data": {
      "text/plain": [
       "{'D1': {}, 'D2': {}, 'D3': {}}"
      ]
     },
     "execution_count": 200,
     "metadata": {},
     "output_type": "execute_result"
    }
   ],
   "source": [
    "alloc_dict = {}\n",
    "\n",
    "alloc_dict['D1'] = {}\n",
    "alloc_dict['D2'] = {}\n",
    "alloc_dict['D3'] = {}\n",
    "\n",
    "alloc_dict"
   ]
  },
  {
   "cell_type": "code",
   "execution_count": 201,
   "metadata": {
    "collapsed": true
   },
   "outputs": [],
   "source": [
    "for i in I:\n",
    "    for key in var_vals.keys():\n",
    "        if i in key:\n",
    "            alloc_dict[i].update({key : var_vals[key]})\n",
    "        else:\n",
    "            continue"
   ]
  },
  {
   "cell_type": "code",
   "execution_count": null,
   "metadata": {
    "collapsed": true
   },
   "outputs": [],
   "source": []
  },
  {
   "cell_type": "code",
   "execution_count": 202,
   "metadata": {
    "collapsed": true
   },
   "outputs": [],
   "source": [
    "d1 = pd.Series(alloc_dict['D1'])\n",
    "d1 = pd.DataFrame(d1)\n",
    "d1['D1_Index'] = d1.index\n",
    "d1.index = range(0,90)\n",
    "d1.columns = ['D1_Allot', 'D1_Index']\n",
    "\n",
    "d2 = pd.Series(alloc_dict['D2'])\n",
    "d2 = pd.DataFrame(d2)\n",
    "d2['D2_Index'] = d2.index\n",
    "d2.index = range(0,90)\n",
    "d2.columns = ['D2_Allot', 'D2_Index']\n",
    "\n",
    "d3 = pd.Series(alloc_dict['D3'])\n",
    "d3 = pd.DataFrame(d3)\n",
    "d3['D3_Index'] = d3.index\n",
    "d3.index = range(0,90)\n",
    "d3.columns = ['D3_Allot', 'D3_Index']\n"
   ]
  },
  {
   "cell_type": "code",
   "execution_count": 203,
   "metadata": {
    "collapsed": true
   },
   "outputs": [],
   "source": [
    "frames = [d1, d2, d3]\n",
    "dept_alls = pd.concat(frames, axis = 1)"
   ]
  },
  {
   "cell_type": "code",
   "execution_count": 205,
   "metadata": {
    "collapsed": true
   },
   "outputs": [],
   "source": [
    "dept_alls.to_csv('DeptAllocations.csv')"
   ]
  },
  {
   "cell_type": "markdown",
   "metadata": {},
   "source": [
    "~END OF DOCUMENT~"
   ]
  },
  {
   "cell_type": "code",
   "execution_count": 11,
   "metadata": {},
   "outputs": [
    {
     "data": {
      "text/plain": [
       "2"
      ]
     },
     "execution_count": 11,
     "metadata": {},
     "output_type": "execute_result"
    }
   ],
   "source": [
    "prefs['D1'].loc['C1-TS1','M']"
   ]
  },
  {
   "cell_type": "code",
   "execution_count": 9,
   "metadata": {},
   "outputs": [
    {
     "data": {
      "text/plain": [
       "['M', 'T', 'W', 'H', 'MW', 'TH']"
      ]
     },
     "execution_count": 9,
     "metadata": {},
     "output_type": "execute_result"
    }
   ],
   "source": [
    "J"
   ]
  }
 ],
 "metadata": {
  "kernelspec": {
   "display_name": "Python 3",
   "language": "python",
   "name": "python3"
  },
  "language_info": {
   "codemirror_mode": {
    "name": "ipython",
    "version": 3
   },
   "file_extension": ".py",
   "mimetype": "text/x-python",
   "name": "python",
   "nbconvert_exporter": "python",
   "pygments_lexer": "ipython3",
   "version": "3.6.2"
  }
 },
 "nbformat": 4,
 "nbformat_minor": 2
}
